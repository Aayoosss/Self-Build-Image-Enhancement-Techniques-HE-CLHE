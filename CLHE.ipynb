{
  "cells": [
    {
      "cell_type": "code",
      "execution_count": null,
      "metadata": {
        "id": "wJ1qOqnIUfmK"
      },
      "outputs": [],
      "source": [
        "import cv2\n",
        "import pandas as pd\n",
        "import numpy as np\n",
        "import matplotlib.pyplot as plt\n",
        "from skimage.metrics import structural_similarity as ssim"
      ]
    },
    {
      "cell_type": "code",
      "execution_count": null,
      "metadata": {
        "id": "iSLqd--aUqYB"
      },
      "outputs": [],
      "source": [
        "img=cv2.imread(\"/content/X-Ray_image.jpeg\")\n",
        "plt.imshow(img)"
      ]
    },
    {
      "cell_type": "code",
      "execution_count": null,
      "metadata": {
        "id": "tby0t_JBggAc"
      },
      "outputs": [],
      "source": [
        "# from google.colab import drive\n",
        "# drive.mount('/content/drive')"
      ]
    },
    {
      "cell_type": "code",
      "execution_count": null,
      "metadata": {
        "id": "4B2_0HkmpVBq"
      },
      "outputs": [],
      "source": [
        "channels=img.shape[2]"
      ]
    },
    {
      "cell_type": "code",
      "execution_count": null,
      "metadata": {
        "id": "ijf1nV2uwy46"
      },
      "outputs": [],
      "source": [
        "channels"
      ]
    },
    {
      "cell_type": "code",
      "execution_count": null,
      "metadata": {
        "id": "Nr6_nnZNwySd"
      },
      "outputs": [],
      "source": [
        "if(channels==1): # If grayscale\n",
        "  In=np.asarray(img.flat)\n",
        "  In\n",
        "if(channels==3): # If 3-channel rgb\n",
        "  Lab_img=cv2.cvtColor(img,cv2.COLOR_BGR2LAB)\n",
        "  L,a,b=cv2.split(Lab_img)\n",
        "  L1=L.copy()\n",
        "  In=np.asarray(L.flat)"
      ]
    },
    {
      "cell_type": "code",
      "execution_count": null,
      "metadata": {
        "id": "TVEO5Ju_2jI3"
      },
      "outputs": [],
      "source": [
        "plt.imshow(L)"
      ]
    },
    {
      "cell_type": "code",
      "execution_count": null,
      "metadata": {
        "id": "HHJaE2n881Ik"
      },
      "outputs": [],
      "source": [
        "L.shape"
      ]
    },
    {
      "cell_type": "code",
      "execution_count": null,
      "metadata": {
        "id": "bcnmPjEPmqX_"
      },
      "outputs": [],
      "source": [
        "L.size"
      ]
    },
    {
      "cell_type": "code",
      "execution_count": null,
      "metadata": {
        "id": "MSYCvK1889GM"
      },
      "outputs": [],
      "source": [
        "In.shape"
      ]
    },
    {
      "cell_type": "code",
      "execution_count": null,
      "metadata": {
        "id": "ih-8KkOdmn2H"
      },
      "outputs": [],
      "source": [
        "In.size"
      ]
    },
    {
      "cell_type": "code",
      "execution_count": null,
      "metadata": {
        "id": "-NIAjOiwmbI0"
      },
      "outputs": [],
      "source": [
        "In"
      ]
    },
    {
      "cell_type": "code",
      "execution_count": null,
      "metadata": {
        "id": "8BHHljp3pf9d"
      },
      "outputs": [],
      "source": [
        "#generating a histogram\n",
        "def gen_histogram(image,bins):\n",
        "  hist=np.zeros(bins)\n",
        "\n",
        "  for i in image:\n",
        "    hist[i]+=1\n",
        "\n",
        "  return hist\n",
        "\n",
        "\n",
        "\n",
        "def calc_pdf(hist): #calculating probability density function\n",
        "  N=np.sum(hist)\n",
        "  N\n",
        "  pdf=np.zeros(256)\n",
        "  for i in range(0,256):\n",
        "    pdf[i]=hist[i]/N\n",
        "\n",
        "  return pdf\n",
        "\n",
        "def check_limit(hist, limit):\n",
        "    flag=False\n",
        "    for i in range(256):\n",
        "        if hist[i] > limit:\n",
        "          print(i)\n",
        "          flag=True\n",
        "          return flag\n",
        "          break  # Return True if any bin exceeds the limit\n",
        "    return flag  # Return False if no bin exceeds the limit\n",
        "\n",
        "\n",
        "def clip(image, clip_limit, hist):\n",
        "  limit = image.shape[0] * image.shape[1] * clip_limit / 100\n",
        "  print(limit)\n",
        "  extrapixels = 0\n",
        "  l = []\n",
        "  while check_limit(hist, limit):\n",
        "\n",
        "        # Find excess pixels and limit bins exceeding the limit\n",
        "      for i in range(256):\n",
        "          if hist[i] > limit:\n",
        "             extrapixels += hist[i] - limit\n",
        "             hist[i] = limit\n",
        "             l.append(i)\n",
        "\n",
        "        # Redistribute excess pixels among other bins\n",
        "  print(l)\n",
        "  sharepixels = extrapixels // (256 - len(l))  # Pixels to distribute per bin\n",
        "  print(sharepixels)\n",
        "  for i in range(256):\n",
        "       if i in l:\n",
        "        hist[i]=limit\n",
        "       else:\n",
        "         hist[i] += sharepixels\n",
        "\n",
        "  return hist.astype('int'), l\n",
        "\n",
        "\n",
        "def calc_cdf(image): #Calculating cumulative density function\n",
        "  cdf=np.zeros(256)\n",
        "  for i in range(0,256):\n",
        "    if i==256:\n",
        "       cdf[i]= np.sum(image)\n",
        "    else:\n",
        "      for j in range(0,i+1):\n",
        "        cdf[i]+=image[j]\n",
        "\n",
        "  return cdf\n",
        "\n",
        "def new_intensities(image):\n",
        "  for i in range(0,256):\n",
        "    image[i]=image[i]*255\n",
        "  return image\n",
        "\n",
        "def get_new_image(New_values, Intensity_array):\n",
        "    for i in range(len(Intensity_array)):\n",
        "        if 0 <= Intensity_array[i] < len(New_values):\n",
        "            Intensity_array[i] = New_values[Intensity_array[i]]\n",
        "    return Intensity_array\n"
      ]
    },
    {
      "cell_type": "code",
      "execution_count": null,
      "metadata": {
        "id": "DyfdMvLOP9Xp"
      },
      "outputs": [],
      "source": [
        "Histogram=gen_histogram(In,256)\n",
        "plt.plot(Histogram)"
      ]
    },
    {
      "cell_type": "code",
      "execution_count": null,
      "metadata": {
        "id": "QcP-HOOjGs_t"
      },
      "outputs": [],
      "source": [
        "HistInt=Histogram.astype('int')\n",
        "HistInt"
      ]
    },
    {
      "cell_type": "code",
      "execution_count": null,
      "metadata": {
        "id": "B3K8Mz8ChS2r"
      },
      "outputs": [],
      "source": [
        "np.sum(HistInt)"
      ]
    },
    {
      "cell_type": "code",
      "execution_count": null,
      "metadata": {
        "id": "J0Ytt8jFyz3k"
      },
      "outputs": [],
      "source": [
        "Clip_Hist,l=clip(L,2,HistInt)"
      ]
    },
    {
      "cell_type": "code",
      "execution_count": null,
      "metadata": {
        "id": "8Ie0iVl1zPTr"
      },
      "outputs": [],
      "source": [
        "Clip_Hist"
      ]
    },
    {
      "cell_type": "code",
      "execution_count": null,
      "metadata": {
        "id": "heWML-wL6xXH"
      },
      "outputs": [],
      "source": [
        "np.sum(Clip_Hist)"
      ]
    },
    {
      "cell_type": "code",
      "execution_count": null,
      "metadata": {
        "id": "zRF6-USFwDzi"
      },
      "outputs": [],
      "source": [
        "plt.plot(Clip_Hist)"
      ]
    },
    {
      "cell_type": "code",
      "execution_count": null,
      "metadata": {
        "id": "YedA2gbTGAaQ"
      },
      "outputs": [],
      "source": [
        "PDF=calc_pdf(Clip_Hist)\n",
        "PDF"
      ]
    },
    {
      "cell_type": "code",
      "execution_count": null,
      "metadata": {
        "id": "O0apE1f2HoD-"
      },
      "outputs": [],
      "source": [
        "CDF=calc_cdf(PDF)\n",
        "CDF"
      ]
    },
    {
      "cell_type": "code",
      "execution_count": null,
      "metadata": {
        "id": "XGyzRhSqJQXn"
      },
      "outputs": [],
      "source": [
        "New_pixel=new_intensities(CDF)\n",
        "New_pixel"
      ]
    },
    {
      "cell_type": "code",
      "execution_count": null,
      "metadata": {
        "id": "S84h8x7yMmWx"
      },
      "outputs": [],
      "source": [
        "New_pixel_int=New_pixel.astype('int')\n",
        "New_pixel_int"
      ]
    },
    {
      "cell_type": "code",
      "execution_count": null,
      "metadata": {
        "id": "zhm6h5NPQPsl"
      },
      "outputs": [],
      "source": [
        "Equal_L=get_new_image(New_pixel_int, In)\n",
        "Equal_L"
      ]
    },
    {
      "cell_type": "code",
      "execution_count": null,
      "metadata": {
        "id": "aZRLxIxeWJMB"
      },
      "outputs": [],
      "source": [
        "Equal_L.shape"
      ]
    },
    {
      "cell_type": "code",
      "execution_count": null,
      "metadata": {
        "id": "8lTFTOoTWhmH"
      },
      "outputs": [],
      "source": [
        "Equal_Hist=gen_histogram(Equal_L,256)\n",
        "plt.plot(Equal_Hist)"
      ]
    },
    {
      "cell_type": "code",
      "execution_count": null,
      "metadata": {
        "id": "H82T-ldAPdmS"
      },
      "outputs": [],
      "source": [
        "Equal_Hist.astype('int')"
      ]
    },
    {
      "cell_type": "code",
      "execution_count": null,
      "metadata": {
        "id": "9f584WNzh9fg"
      },
      "outputs": [],
      "source": [
        "Equal_L = np.reshape(Equal_L, L.shape)"
      ]
    },
    {
      "cell_type": "code",
      "execution_count": null,
      "metadata": {
        "id": "Gd9_DiRAhdF-"
      },
      "outputs": [],
      "source": [
        "plt.imshow(Equal_L, cmap='gray')"
      ]
    },
    {
      "cell_type": "code",
      "execution_count": null,
      "metadata": {
        "id": "EKaUB1eH2L9m"
      },
      "outputs": [],
      "source": [
        "score, _ = ssim(L1, Equal_L, full=True)"
      ]
    },
    {
      "cell_type": "code",
      "execution_count": null,
      "metadata": {
        "id": "6qgPaSll2eYC"
      },
      "outputs": [],
      "source": [
        "score"
      ]
    },
    {
      "cell_type": "code",
      "execution_count": null,
      "metadata": {
        "id": "1xgzEXmE3BYD"
      },
      "outputs": [],
      "source": [
        "_"
      ]
    },
    {
      "cell_type": "code",
      "execution_count": null,
      "metadata": {
        "id": "qv1auJjLM0i4"
      },
      "outputs": [],
      "source": [
        "def evaluate_fitness(original_image, processed_image):\n",
        "\n",
        "    ogn_flat = original_image.flatten()\n",
        "    pcs_flat = processed_image.flatten()\n",
        "\n",
        "    mse = np.mean((ogn_flat - pcs_flat) ** 2)\n",
        "    max_pixel = 255.0\n",
        "\n",
        "    psnr = 20 * np.log10(max_pixel / np.sqrt(mse))\n",
        "    return psnr"
      ]
    },
    {
      "cell_type": "code",
      "execution_count": null,
      "metadata": {
        "id": "l8XkwxbGM0Zr"
      },
      "outputs": [],
      "source": [
        "PSNR=evaluate_fitness(L1, Equal_L)"
      ]
    },
    {
      "cell_type": "code",
      "execution_count": null,
      "metadata": {
        "id": "wv-TA8GPM0QT"
      },
      "outputs": [],
      "source": [
        "PSNR"
      ]
    },
    {
      "cell_type": "code",
      "execution_count": null,
      "metadata": {
        "id": "3h9XJtyYsRR1"
      },
      "outputs": [],
      "source": [
        "New_img= cv2.merge((Equal_L,a,b))"
      ]
    },
    {
      "cell_type": "code",
      "execution_count": null,
      "metadata": {
        "id": "n2o3yYxtsRJ9"
      },
      "outputs": [],
      "source": [
        "plt.imshow(New_img)"
      ]
    },
    {
      "cell_type": "code",
      "execution_count": null,
      "metadata": {
        "id": "laHi9mRGsQ2D"
      },
      "outputs": [],
      "source": [
        "Hist_img= cv2.cvtColor(New_img,cv2.COLOR_LAB2BGR)"
      ]
    },
    {
      "cell_type": "code",
      "execution_count": null,
      "metadata": {
        "id": "fwjelqgTtWD-"
      },
      "outputs": [],
      "source": [
        "plt.imshow(Hist_img)"
      ]
    },
    {
      "cell_type": "code",
      "execution_count": null,
      "metadata": {
        "id": "SKaFOSKXvW_G"
      },
      "outputs": [],
      "source": [
        "import matplotlib.pyplot as plt\n",
        "import cv2\n",
        "\n",
        "# Convert images from BGR to RGB format (assuming OpenCV reads images in BGR format)\n",
        "original_image = cv2.cvtColor(img, cv2.COLOR_BGR2RGB)\n",
        "enhanced_image = cv2.cvtColor(Hist_img, cv2.COLOR_BGR2RGB)\n",
        "\n",
        "# Create a figure and axis objects\n",
        "fig, axes = plt.subplots(1, 2, figsize=(12, 6))\n",
        "\n",
        "# Display original image\n",
        "axes[0].imshow(img)\n",
        "axes[0].set_title('Original')  # Add label 'Before' to the original image\n",
        "axes[0].axis('off')\n",
        "\n",
        "# Display enhanced image\n",
        "axes[1].imshow(Hist_img)\n",
        "axes[1].set_title('Enhanced')  # Add label 'After' to the enhanced image\n",
        "axes[1].axis('off')\n",
        "\n",
        "# Show the plot\n",
        "plt.show()"
      ]
    },
    {
      "cell_type": "code",
      "execution_count": null,
      "metadata": {
        "id": "juYGVPuRlJIk"
      },
      "outputs": [],
      "source": [
        "clahe=cv2.createCLAHE(clipLimit=3.0,tileGridSize=(8,8))\n",
        "clahe_img=clahe.apply(L)"
      ]
    },
    {
      "cell_type": "code",
      "execution_count": null,
      "metadata": {
        "id": "JdPvpYgDl1kD"
      },
      "outputs": [],
      "source": [
        "New_img2= cv2.merge((clahe_img,a,b))"
      ]
    },
    {
      "cell_type": "code",
      "execution_count": null,
      "metadata": {
        "id": "IKR31VQhmHuH"
      },
      "outputs": [],
      "source": [
        "CLAHE_img=cv2.cvtColor(New_img2, cv2.COLOR_LAB2BGR)"
      ]
    },
    {
      "cell_type": "code",
      "execution_count": null,
      "metadata": {
        "id": "CissP_bMmUtH"
      },
      "outputs": [],
      "source": [
        "plt.imshow(CLAHE_img)"
      ]
    },
    {
      "cell_type": "code",
      "execution_count": null,
      "metadata": {
        "id": "Hzkm0x35mXaC"
      },
      "outputs": [],
      "source": [
        "plt.imshow(img)"
      ]
    },
    {
      "cell_type": "code",
      "source": [
        "\n"
      ],
      "metadata": {
        "id": "hab-DCbLCAux"
      },
      "execution_count": null,
      "outputs": []
    }
  ],
  "metadata": {
    "colab": {
      "provenance": []
    },
    "kernelspec": {
      "display_name": "Python 3",
      "name": "python3"
    },
    "language_info": {
      "name": "python"
    }
  },
  "nbformat": 4,
  "nbformat_minor": 0
}