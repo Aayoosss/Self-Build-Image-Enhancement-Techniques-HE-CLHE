{
  "nbformat": 4,
  "nbformat_minor": 0,
  "metadata": {
    "colab": {
      "provenance": []
    },
    "kernelspec": {
      "name": "python3",
      "display_name": "Python 3"
    },
    "language_info": {
      "name": "python"
    }
  },
  "cells": [
    {
      "cell_type": "code",
      "execution_count": null,
      "metadata": {
        "id": "wJ1qOqnIUfmK"
      },
      "outputs": [],
      "source": [
        "import cv2\n",
        "import pandas as pd\n",
        "import numpy as np\n",
        "import matplotlib.pyplot as plt\n",
        "from skimage.metrics import structural_similarity as ssim"
      ]
    },
    {
      "cell_type": "code",
      "source": [
        "from google.colab import drive\n",
        "drive.mount('/content/drive')"
      ],
      "metadata": {
        "id": "cN4SzWWuAxzw"
      },
      "execution_count": null,
      "outputs": []
    },
    {
      "cell_type": "code",
      "source": [
        "img=cv2.imread(\"/content/X-Ray_image.jpeg\")\n",
        "plt.imshow(img)"
      ],
      "metadata": {
        "id": "iSLqd--aUqYB"
      },
      "execution_count": null,
      "outputs": []
    },
    {
      "cell_type": "code",
      "source": [
        "channels=img.shape[2]"
      ],
      "metadata": {
        "id": "4B2_0HkmpVBq"
      },
      "execution_count": null,
      "outputs": []
    },
    {
      "cell_type": "code",
      "source": [
        "img.shape"
      ],
      "metadata": {
        "id": "58uTbMOTYY9s"
      },
      "execution_count": null,
      "outputs": []
    },
    {
      "cell_type": "code",
      "source": [
        "channels"
      ],
      "metadata": {
        "id": "ijf1nV2uwy46"
      },
      "execution_count": null,
      "outputs": []
    },
    {
      "cell_type": "code",
      "source": [
        "if(channels==1): # If grayscale\n",
        "  In=np.asarray(img.flat)\n",
        "  In\n",
        "if(channels==3): # If 3-channel rgb\n",
        "  Lab_img=cv2.cvtColor(img,cv2.COLOR_BGR2LAB)\n",
        "  L,a,b=cv2.split(Lab_img)\n",
        "  L1=L.copy()\n",
        "  In=np.asarray(L.flat)\n",
        "  In"
      ],
      "metadata": {
        "id": "Nr6_nnZNwySd"
      },
      "execution_count": null,
      "outputs": []
    },
    {
      "cell_type": "code",
      "source": [
        "plt.imshow(L,cmap='gray')"
      ],
      "metadata": {
        "id": "stIgqBFZNspQ"
      },
      "execution_count": null,
      "outputs": []
    },
    {
      "cell_type": "code",
      "source": [
        "L1"
      ],
      "metadata": {
        "id": "HPl2tVbVN15g"
      },
      "execution_count": null,
      "outputs": []
    },
    {
      "cell_type": "code",
      "source": [
        "#generating a histogram\n",
        "def gen_histogram(image,bins):\n",
        "  hist=np.zeros(bins)\n",
        "\n",
        "  for i in image:\n",
        "    hist[i]+=1\n",
        "\n",
        "  return hist"
      ],
      "metadata": {
        "id": "8BHHljp3pf9d"
      },
      "execution_count": null,
      "outputs": []
    },
    {
      "cell_type": "code",
      "source": [
        "Histogram=gen_histogram(In,256)\n",
        "plt.plot(Histogram)"
      ],
      "metadata": {
        "id": "DyfdMvLOP9Xp"
      },
      "execution_count": null,
      "outputs": []
    },
    {
      "cell_type": "code",
      "source": [
        "Histogram"
      ],
      "metadata": {
        "id": "QcP-HOOjGs_t"
      },
      "execution_count": null,
      "outputs": []
    },
    {
      "cell_type": "code",
      "source": [
        "N=np.sum(Histogram)\n",
        "N\n",
        "\n",
        "def calc_pdf(hist): #calculating probability density function\n",
        "  pdf=np.zeros(256)\n",
        "  for i in range(0,256):\n",
        "    pdf[i]=hist[i]/N\n",
        "\n",
        "  return pdf"
      ],
      "metadata": {
        "id": "MSHwaKSTAq89"
      },
      "execution_count": null,
      "outputs": []
    },
    {
      "cell_type": "code",
      "source": [
        "PDF=calc_pdf(Histogram)\n",
        "PDF"
      ],
      "metadata": {
        "id": "YedA2gbTGAaQ"
      },
      "execution_count": null,
      "outputs": []
    },
    {
      "cell_type": "code",
      "source": [
        "def new_intensities(image):\n",
        "  for i in range(0,256):\n",
        "    image[i]=image[i]*255\n",
        "  return image\n",
        "\n",
        "\n",
        "def calc_cdf(image): #Calculating cumulative density function\n",
        "  cdf=np.zeros(256)\n",
        "  for i in range(0,256):\n",
        "    if i==256:\n",
        "       cdf[i]= np.sum(image)\n",
        "    else:\n",
        "      for j in range(0,i+1):\n",
        "        cdf[i]+=image[j]\n",
        "\n",
        "  return cdf"
      ],
      "metadata": {
        "id": "cV9QQSElGa9D"
      },
      "execution_count": null,
      "outputs": []
    },
    {
      "cell_type": "code",
      "source": [
        "CDF=calc_cdf(PDF)\n",
        "CDF"
      ],
      "metadata": {
        "id": "O0apE1f2HoD-"
      },
      "execution_count": null,
      "outputs": []
    },
    {
      "cell_type": "code",
      "source": [
        "New_pixel=new_intensities(CDF)\n",
        "New_pixel"
      ],
      "metadata": {
        "id": "XGyzRhSqJQXn"
      },
      "execution_count": null,
      "outputs": []
    },
    {
      "cell_type": "code",
      "source": [
        "New_pixel_int=New_pixel.astype('uint8')\n",
        "New_pixel_int"
      ],
      "metadata": {
        "id": "S84h8x7yMmWx"
      },
      "execution_count": null,
      "outputs": []
    },
    {
      "cell_type": "code",
      "source": [
        "def get_new_image(New_values, Intensity_array):\n",
        "    for i in range(len(Intensity_array)):\n",
        "        if 0 <= Intensity_array[i] < len(New_values):\n",
        "            Intensity_array[i] = New_values[Intensity_array[i]]\n",
        "    return Intensity_array"
      ],
      "metadata": {
        "id": "7WXoPm3IM4C0"
      },
      "execution_count": null,
      "outputs": []
    },
    {
      "cell_type": "code",
      "source": [
        "Equal_L=get_new_image(New_pixel_int, In)\n",
        "Equal_L"
      ],
      "metadata": {
        "id": "zhm6h5NPQPsl"
      },
      "execution_count": null,
      "outputs": []
    },
    {
      "cell_type": "code",
      "source": [
        "Equal_L.shape"
      ],
      "metadata": {
        "id": "aZRLxIxeWJMB"
      },
      "execution_count": null,
      "outputs": []
    },
    {
      "cell_type": "code",
      "source": [
        "Equal_Hist=gen_histogram(Equal_L,256)\n",
        "plt.plot(Equal_Hist)"
      ],
      "metadata": {
        "id": "8lTFTOoTWhmH"
      },
      "execution_count": null,
      "outputs": []
    },
    {
      "cell_type": "code",
      "source": [
        "Equal_L = np.reshape(Equal_L, L.shape)"
      ],
      "metadata": {
        "id": "9f584WNzh9fg"
      },
      "execution_count": null,
      "outputs": []
    },
    {
      "cell_type": "code",
      "source": [
        "plt.imshow(L1, cmap='gray')"
      ],
      "metadata": {
        "id": "IrmRtnHdNF94"
      },
      "execution_count": null,
      "outputs": []
    },
    {
      "cell_type": "code",
      "source": [
        "L1"
      ],
      "metadata": {
        "id": "OuW7BV7MNKVR"
      },
      "execution_count": null,
      "outputs": []
    },
    {
      "cell_type": "code",
      "source": [
        "plt.imshow(Equal_L, cmap='gray')"
      ],
      "metadata": {
        "id": "Gd9_DiRAhdF-"
      },
      "execution_count": null,
      "outputs": []
    },
    {
      "cell_type": "code",
      "source": [
        "Equal_L"
      ],
      "metadata": {
        "id": "R3kDUK0_NNSu"
      },
      "execution_count": null,
      "outputs": []
    },
    {
      "cell_type": "code",
      "source": [
        "score, _ = ssim(L1, Equal_L, full=True)"
      ],
      "metadata": {
        "id": "m0_ykCH31zlR"
      },
      "execution_count": null,
      "outputs": []
    },
    {
      "cell_type": "code",
      "source": [
        "score"
      ],
      "metadata": {
        "id": "EK0ciiu-18q5"
      },
      "execution_count": null,
      "outputs": []
    },
    {
      "cell_type": "code",
      "source": [
        "_"
      ],
      "metadata": {
        "id": "7koZH-f02F-W"
      },
      "execution_count": null,
      "outputs": []
    },
    {
      "cell_type": "code",
      "source": [
        "def evaluate_fitness(original_image, processed_image):\n",
        "\n",
        "    ogn_flat = original_image.flatten()\n",
        "    pcs_flat = processed_image.flatten()\n",
        "\n",
        "    mse = np.mean((ogn_flat - pcs_flat) ** 2)\n",
        "    max_pixel = 255.0\n",
        "\n",
        "    psnr = 20 * np.log10(max_pixel / np.sqrt(mse))\n",
        "    return psnr"
      ],
      "metadata": {
        "id": "2r6GR4dJJ5fY"
      },
      "execution_count": null,
      "outputs": []
    },
    {
      "cell_type": "code",
      "source": [
        "PSNR=evaluate_fitness(L1, Equal_L)"
      ],
      "metadata": {
        "id": "DhTnh5x3KBqf"
      },
      "execution_count": null,
      "outputs": []
    },
    {
      "cell_type": "code",
      "source": [
        "PSNR"
      ],
      "metadata": {
        "id": "peo-TepXKWQa"
      },
      "execution_count": null,
      "outputs": []
    },
    {
      "cell_type": "code",
      "source": [
        "New_img= cv2.merge((Equal_L,a,b))"
      ],
      "metadata": {
        "id": "3h9XJtyYsRR1"
      },
      "execution_count": null,
      "outputs": []
    },
    {
      "cell_type": "code",
      "source": [
        "plt.imshow(New_img)"
      ],
      "metadata": {
        "id": "n2o3yYxtsRJ9"
      },
      "execution_count": null,
      "outputs": []
    },
    {
      "cell_type": "code",
      "source": [
        "Hist_img= cv2.cvtColor(New_img,cv2.COLOR_LAB2BGR)"
      ],
      "metadata": {
        "id": "laHi9mRGsQ2D"
      },
      "execution_count": null,
      "outputs": []
    },
    {
      "cell_type": "code",
      "source": [
        "plt.imshow(Hist_img)"
      ],
      "metadata": {
        "id": "fwjelqgTtWD-"
      },
      "execution_count": null,
      "outputs": []
    },
    {
      "cell_type": "code",
      "source": [
        "import matplotlib.pyplot as plt\n",
        "import cv2\n",
        "\n",
        "# Convert images from BGR to RGB format (assuming OpenCV reads images in BGR format)\n",
        "original_image = cv2.cvtColor(img, cv2.COLOR_BGR2RGB)\n",
        "enhanced_image = cv2.cvtColor(Hist_img, cv2.COLOR_BGR2RGB)\n",
        "\n",
        "# Create a figure and axis objects\n",
        "fig, axes = plt.subplots(1, 2, figsize=(12, 6))\n",
        "\n",
        "# Display original image\n",
        "axes[0].imshow(original_image)\n",
        "axes[0].set_title('Original')  # Add label 'Before' to the original image\n",
        "axes[0].axis('off')\n",
        "\n",
        "# Display enhanced image\n",
        "axes[1].imshow(enhanced_image)\n",
        "axes[1].set_title('Enhanced')  # Add label 'After' to the enhanced image\n",
        "axes[1].axis('off')\n",
        "\n",
        "# Show the plot\n",
        "plt.show()\n"
      ],
      "metadata": {
        "id": "Qb-p0M74FgHW"
      },
      "execution_count": null,
      "outputs": []
    },
    {
      "cell_type": "code",
      "source": [
        "L"
      ],
      "metadata": {
        "id": "vEz57d5sZfJt"
      },
      "execution_count": null,
      "outputs": []
    }
  ]
}